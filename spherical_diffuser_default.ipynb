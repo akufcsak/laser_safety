{
 "cells": [
  {
   "cell_type": "code",
   "execution_count": null,
   "outputs": [],
   "source": [
    "# Default analysis (non-extended source)\n",
    "# for a spherical diffuser tip"
   ],
   "metadata": {
    "collapsed": false
   },
   "id": "fb58bf710a80397c"
  },
  {
   "cell_type": "code",
   "execution_count": null,
   "outputs": [],
   "source": [
    "import numpy as np\n",
    "from tables import get_c5, table3, table_a1, table_a5"
   ],
   "metadata": {
    "collapsed": false
   },
   "id": "d26ffb81b34c1dd1"
  },
  {
   "cell_type": "code",
   "execution_count": null,
   "outputs": [],
   "source": [
    "# Note, all time values are expressed in seconds [s]\n",
    "# The analysis is for a repetitively pulsed laser\n",
    "# emitting at a single wavelength\n",
    "\n",
    "t_pulse = 80e-15  # pulse duration [s]\n",
    "lambda_ = 784  # wavelength [nm]\n",
    "f = 80.1e6  # laser rep rate [Hz]\n",
    "\n",
    "# TODO make automatic determination based on class (and wavelength?)\n",
    "t_base = 100  # time base for Class 1"
   ],
   "metadata": {
    "collapsed": false
   },
   "id": "initial_id"
  },
  {
   "cell_type": "code",
   "execution_count": null,
   "outputs": [],
   "source": [
    "## AEL"
   ],
   "metadata": {
    "collapsed": false
   },
   "id": "3216ca8a9152c6f9"
  },
  {
   "cell_type": "code",
   "execution_count": null,
   "outputs": [],
   "source": [
    "### Single pulse analysis (determining AEL_single)\n",
    "ael_single_j = table3(lambda_, t_pulse)[0]"
   ],
   "metadata": {
    "collapsed": false
   },
   "id": "f1af71955c1aa918"
  },
  {
   "cell_type": "code",
   "execution_count": null,
   "outputs": [],
   "source": [
    "### Average power analysis \n",
    "ael_t_w = table3(lambda_, t_base)[1]\n",
    "# see Note 8 of 4.3.f and Note 1 in Figure B.1\n",
    "ael_spt_j = ael_t_w / f"
   ],
   "metadata": {
    "collapsed": false
   },
   "id": "cf688ab9ed59f338"
  },
  {
   "cell_type": "code",
   "execution_count": null,
   "outputs": [],
   "source": [
    "### Reduced pulse analysis (pulse train analysis) \n",
    "# get correction factor c5, the effective pulse duration,\n",
    "# and the number of real pulses in the eff. pulse duration\n",
    "# Note, alpha is kept at alpha_min for default evaluation\n",
    "c5, t_eff, n = get_c5(lambda_, t_pulse, 1 / f, t_base, 1.5e-3)\n",
    "\n",
    "# single pulse AEL for the effective pulse length [J]\n",
    "ael_eff_j = table3(lambda_, t_eff)[0]\n",
    "# project back to an individual pulse and apply correction\n",
    "ael_sptrain_j = ael_eff_j / n * c5"
   ],
   "metadata": {
    "collapsed": false
   },
   "id": "f6396d57ef97c7e5"
  },
  {
   "cell_type": "code",
   "execution_count": null,
   "outputs": [],
   "source": [
    "ael = min(ael_single_j, ael_spt_j, ael_sptrain_j)\n",
    "ael"
   ],
   "metadata": {
    "collapsed": false
   },
   "id": "fbbc1157cd2a5c4f"
  },
  {
   "cell_type": "code",
   "execution_count": null,
   "outputs": [],
   "source": [
    "## Accessible emission"
   ],
   "metadata": {
    "collapsed": false
   },
   "id": "7671184dbbd900fa"
  },
  {
   "cell_type": "code",
   "execution_count": null,
   "outputs": [],
   "source": [
    "p_avg = 0.124  # average laser power\n",
    "# duty = t_pulse * f  # duty cycle of laser pulses\n",
    "q_pulse = p_avg / f  # pulse energy\n",
    "\n",
    "\n",
    "# Function to get energy incident on aperture\n",
    "def ae(q, w, r):\n",
    "    \"\"\"\n",
    "    Accessible emission from spherical diffuser\n",
    "    :param q: pulse energy [J]\n",
    "    :param w: aperture diameter [m]\n",
    "    :param r: aperture distance from sphere surface [m]\n",
    "    :return: accessible emission [J]\n",
    "    \"\"\"\n",
    "    r_c = r + 1e-3\n",
    "    theta = np.atan(w / 2 / r_c)\n",
    "    # pulse energy on aperture\n",
    "    return q * (1 - np.cos(theta)) / 2"
   ],
   "metadata": {
    "collapsed": false
   },
   "id": "47871a4ed4e44184"
  },
  {
   "cell_type": "code",
   "execution_count": null,
   "outputs": [],
   "source": [
    "### Condition 1"
   ],
   "metadata": {
    "collapsed": false
   },
   "id": "2b8040656f5c128d"
  },
  {
   "cell_type": "code",
   "execution_count": null,
   "outputs": [],
   "source": [
    "# Condition 1\n",
    "# Just in case (to see if class is actually 1M)\n",
    "w_c1 = 50e-3  # aperture diameter (Table 10)\n",
    "d_c1 = 2000e-3  # distance (Table 10, 11)\n",
    "q_single_c1 = ae(q_pulse, w_c1, d_c1)"
   ],
   "metadata": {
    "collapsed": false
   },
   "id": "ddbd3979e0ccc1ee"
  },
  {
   "cell_type": "code",
   "execution_count": null,
   "outputs": [],
   "source": [
    "### Condition 3"
   ],
   "metadata": {
    "collapsed": false
   },
   "id": "649cfebdcef74e44"
  },
  {
   "cell_type": "code",
   "execution_count": null,
   "outputs": [],
   "source": [
    "w_c3 = 7e-3  # aperture diameter (Table 10)\n",
    "d_c3 = 100e-3  # distance (Table 10, 11)\n",
    "# accessible emission (in single pulse) [J]\n",
    "q_single_c3 = ae(q_pulse, w_c3, d_c3)"
   ],
   "metadata": {
    "collapsed": false
   },
   "id": "676282431933a096"
  },
  {
   "cell_type": "code",
   "execution_count": null,
   "outputs": [],
   "source": [
    "# Check class\n",
    "# q_ap_single_c1, q_ap_single_c3\n",
    "if q_single_c3 <= ael:\n",
    "    if q_single_c1 <= ael:\n",
    "        print('Product is Class 1!')\n",
    "    else:  # q_ap_single_c1 > ael, technically, we should check if it's also below class 3B\n",
    "        print('Product is Class 1M')\n",
    "else:\n",
    "    print('Product is above Class 1, repeat test with higher class specs')\n"
   ],
   "metadata": {
    "collapsed": false
   },
   "id": "d9b6962bb2a5a01"
  },
  {
   "cell_type": "code",
   "execution_count": null,
   "outputs": [],
   "source": [
    "## MPE (eye)"
   ],
   "metadata": {
    "collapsed": false
   },
   "id": "31460cd47010e4d4"
  },
  {
   "cell_type": "code",
   "execution_count": null,
   "outputs": [],
   "source": [
    "### Single pulse analysis\n",
    "mpe_single_eye = table_a1(lambda_, t_pulse)[0]"
   ],
   "metadata": {
    "collapsed": false
   },
   "id": "76396ec5723b709c"
  },
  {
   "cell_type": "code",
   "execution_count": null,
   "outputs": [],
   "source": [
    "### Average power analysis \n",
    "mpe_avg_eye_i = table_a1(lambda_, t_base)[1]\n",
    "# see Note 8 of 4.3.f and Note 1 in Figure B.1\n",
    "mpe_avg_eye_re = mpe_avg_eye_i / f"
   ],
   "metadata": {
    "collapsed": false
   },
   "id": "13bc1366bd9ba8c1"
  },
  {
   "cell_type": "code",
   "execution_count": null,
   "outputs": [],
   "source": [
    "### Reduced pulse analysis (pulse train analysis) \n",
    "# use correction factor c5, the effective pulse duration,\n",
    "# and the number of real pulses in the eff. pulse duration\n",
    "\n",
    "# single pulse AEL for the effective pulse length [J]\n",
    "mpe_eff_re = table_a1(lambda_, t_eff)[0]\n",
    "# project back to an individual pulse and apply correction\n",
    "mpe_sptrain_re = mpe_eff_re / n * c5"
   ],
   "metadata": {
    "collapsed": false
   },
   "id": "5aaec9af87a82beb"
  },
  {
   "cell_type": "code",
   "execution_count": null,
   "outputs": [],
   "source": [
    "mpe_eye = min(mpe_single_eye, mpe_avg_eye_re, mpe_sptrain_re)\n",
    "mpe_eye"
   ],
   "metadata": {
    "collapsed": false
   },
   "id": "df9e1a6bd65e6611"
  },
  {
   "cell_type": "code",
   "execution_count": null,
   "outputs": [],
   "source": [
    "# of course, we should get the same if using class 1 AEL\n",
    "# calculated already, and divide it with the aperture area\n",
    "def get_area(w):\n",
    "    \"\"\"\n",
    "    :param w: aperture diameter [m] \n",
    "    :return: aperture area [m2]\n",
    "    \"\"\"\n",
    "    return (w / 2) ** 2 * np.pi\n",
    "\n",
    "\n",
    "a_ap_eye = get_area(w_c3)  # aperture area for eye\n",
    "mpe_2 = ael / a_ap_eye\n",
    "mpe_2"
   ],
   "metadata": {
    "collapsed": false
   },
   "id": "577af701ba4918c9"
  },
  {
   "cell_type": "code",
   "execution_count": null,
   "outputs": [],
   "source": [
    "## MPE (skin)"
   ],
   "metadata": {
    "collapsed": false
   },
   "id": "3d98382296845f1f"
  },
  {
   "cell_type": "code",
   "execution_count": null,
   "outputs": [],
   "source": [
    "### Single pulse analysis\n",
    "mpe_simple_skin_re = table_a5(lambda_, t_pulse)[0]"
   ],
   "metadata": {
    "collapsed": false
   },
   "id": "4ba1b9ecce69e9c7"
  },
  {
   "cell_type": "code",
   "execution_count": null,
   "outputs": [],
   "source": [
    "### Average power analysis \n",
    "mpe_avg_skin_i = table_a5(lambda_, t_base)[1]\n",
    "# see Note 8 of 4.3.f and Note 1 in Figure B.1\n",
    "mpe_avg_skin_re = mpe_avg_skin_i / f\n",
    "\n",
    "mpe_skin = min(mpe_simple_skin_re, mpe_avg_skin_re)"
   ],
   "metadata": {
    "collapsed": false
   },
   "id": "38a37a964493c782"
  },
  {
   "cell_type": "code",
   "execution_count": null,
   "outputs": [],
   "source": [
    "## NOHD \n",
    "# array of aperture distances \n",
    "ds = np.arange(1e-4, 150e-3, 1e-4)\n",
    "# accessible emission values at distance d\n",
    "# (ae is vectorised, so can call it with array)\n",
    "q_d = ae(q_pulse, w_c3, ds)\n",
    "# array of radiant exposure values\n",
    "re_eye = q_d / a_ap_eye\n",
    "nohd = ds[np.where(re_eye <= mpe_eye)][0]\n",
    "nohd"
   ],
   "metadata": {
    "collapsed": false
   },
   "id": "9e2b79269fc29f34"
  },
  {
   "cell_type": "code",
   "execution_count": null,
   "outputs": [],
   "source": [
    "# As a sanity check, we could use the Tools / Diff. Refl. tab in LaserBee,\n",
    "# with a 'Point Emitter' model.\n",
    "# It only calculates the MPE for CW but that could be directly compared\n",
    "# with our average MPE calculated for a pulse train.\n",
    "# For the default emission time (T_base), and evaluation position (100 mm)\n",
    "# This should be 14.72 W/m2, according to LaserBee\n",
    "mpe_avg_eye_i"
   ],
   "metadata": {
    "collapsed": false
   },
   "id": "8d87d59ba8b0e380"
  },
  {
   "cell_type": "code",
   "execution_count": null,
   "outputs": [],
   "source": [
    "# Similarly, we can the radiant energy for the default conditions\n",
    "# According to LaserBee, this should give a radiant exposure of \n",
    "# 98.678 J/m2\n",
    "q_d = ae(p_avg * t_base, w_c3, d_c3)\n",
    "q_d / a_ap_eye"
   ],
   "metadata": {
    "collapsed": false
   },
   "id": "24749c1f0af680f2"
  },
  {
   "cell_type": "code",
   "execution_count": null,
   "outputs": [],
   "source": [
    "## Skin hazard distance\n",
    "w_skin = 3.5e-3  # aperture diameter for skin [m]\n",
    "a_ap_skin = get_area(w_skin)\n",
    "# accessible emission values at distance d\n",
    "# (ae is vectorised, so can call it with array)\n",
    "q_d = ae(q_pulse, w_skin, ds)\n",
    "# array of radiant exposure values\n",
    "re_skin = q_d / a_ap_skin\n",
    "shd = ds[np.where(re_skin <= mpe_skin)][0]\n",
    "shd"
   ],
   "metadata": {
    "collapsed": false
   },
   "id": "742538e053d0c46f"
  },
  {
   "cell_type": "code",
   "execution_count": null,
   "outputs": [],
   "source": [],
   "metadata": {
    "collapsed": false
   },
   "id": "b4b93e4d40922b08"
  }
 ],
 "metadata": {
  "kernelspec": {
   "display_name": "Python 3",
   "language": "python",
   "name": "python3"
  },
  "language_info": {
   "codemirror_mode": {
    "name": "ipython",
    "version": 2
   },
   "file_extension": ".py",
   "mimetype": "text/x-python",
   "name": "python",
   "nbconvert_exporter": "python",
   "pygments_lexer": "ipython2",
   "version": "2.7.6"
  }
 },
 "nbformat": 4,
 "nbformat_minor": 5
}
