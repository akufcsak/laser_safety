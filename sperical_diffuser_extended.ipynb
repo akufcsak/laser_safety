{
 "cells": [
  {
   "cell_type": "code",
   "execution_count": null,
   "id": "initial_id",
   "metadata": {
    "collapsed": true
   },
   "outputs": [],
   "source": [
    "# Extended source analysis\n",
    "# for a spherical diffuser tip"
   ]
  },
  {
   "cell_type": "code",
   "execution_count": null,
   "outputs": [],
   "source": [
    "import numpy as np\n",
    "from tables import get_c5, table4, table_a2, table_a5"
   ],
   "metadata": {
    "collapsed": false
   },
   "id": "9d1a58be552af809"
  },
  {
   "cell_type": "code",
   "execution_count": null,
   "outputs": [],
   "source": [
    "# Note, all time values are expressed in seconds [s]\n",
    "# The analysis is for a repetitively pulsed laser\n",
    "# emitting at a single wavelength\n",
    "\n",
    "t_pulse = 80e-15      # pulse duration [s]\n",
    "lambda_ = 784       # wavelength [nm]\n",
    "f = 80.1e6      # laser rep rate [Hz]\n",
    "# diffuser tip diameter [m]\n",
    "r_sphere = 1e-3\n",
    "# TODO make automatic determination based on class (and wavelength?)\n",
    "t_base = 100     # time base for Class 1"
   ],
   "metadata": {
    "collapsed": false
   },
   "id": "f79eb25d48b00ae6"
  },
  {
   "cell_type": "code",
   "execution_count": null,
   "outputs": [],
   "source": [
    "# note, the angular subtense of the apparent source\n",
    "# depends on the aperture distance\n",
    "# array of aperture distances from the sphere surface (reference point)\n",
    "d_ap = np.arange(100e-3, 3500e-3, 1e-4)\n",
    "# angular subtense of the apparent source (not limited just now)\n",
    "alphas = 2 * r_sphere / (d_ap + r_sphere)"
   ],
   "metadata": {
    "collapsed": false
   },
   "id": "eda66bcc73f10c8d"
  },
  {
   "cell_type": "code",
   "execution_count": null,
   "outputs": [],
   "source": [
    "## AEL"
   ],
   "metadata": {
    "collapsed": false
   },
   "id": "de416f3346ad40ad"
  },
  {
   "cell_type": "code",
   "execution_count": null,
   "outputs": [],
   "source": [
    "### Single pulse analysis (determining AEL_single)\n",
    "ael_single_j = np.array([table4(lambda_, t_pulse, alpha)[0] for alpha in alphas])"
   ],
   "metadata": {
    "collapsed": false
   },
   "id": "faed137105cd12ea"
  },
  {
   "cell_type": "code",
   "execution_count": null,
   "outputs": [],
   "source": [
    "### Average power analysis \n",
    "ael_t_w = np.array([table4(lambda_, t_base, alpha)[1] for alpha in alphas])\n",
    "# see Note 8 of 4.3.f and Note 1 in Figure B.1\n",
    "ael_spt_j = ael_t_w / f"
   ],
   "metadata": {
    "collapsed": false
   },
   "id": "afa46a1083e317c4"
  },
  {
   "cell_type": "code",
   "execution_count": null,
   "outputs": [],
   "source": [
    "### Reduced pulse analysis (pulse train analysis) \n",
    "# get correction factor c5, the effective pulse duration,\n",
    "# and the number of real pulses in the eff. pulse duration\n",
    "# Note, alpha is kept at alpha_min for default evaluation\n",
    "c5, t_eff, n = get_c5(lambda_, t_pulse, 1 / f, t_base, 1.5e-3)\n",
    "\n",
    "# single pulse AEL for the effective pulse length [J]\n",
    "ael_eff_j = np.array([table4(lambda_, t_eff, alpha)[0] for alpha in alphas])\n",
    "# project back to an individual pulse and apply correction\n",
    "ael_sptrain_j = ael_eff_j / n * c5"
   ],
   "metadata": {
    "collapsed": false
   },
   "id": "ec001b21d5fb1850"
  },
  {
   "cell_type": "code",
   "execution_count": null,
   "outputs": [],
   "source": [
    "aels = np.array([ael_single_j, ael_spt_j, ael_sptrain_j])\n",
    "# minimum ael per aperture position\n",
    "ael_d = np.min(aels, axis=0)"
   ],
   "metadata": {
    "collapsed": false
   },
   "id": "1b9b9ea86641f5f3"
  },
  {
   "cell_type": "code",
   "execution_count": null,
   "outputs": [],
   "source": [
    "# most restrictive positions [m]\n",
    "# for Condition 1\n",
    "d_min_c1 = 2000e-3  # minimum measuring distance for Condition 1\n",
    "d_ael_c1 = d_ap[d_ap >= d_min_c1][np.argmin(ael_d[d_ap >= d_min_c1])]\n",
    "# for Condition 3\n",
    "d_min_c3 = 100e-3  # minimum measuring distance for Condition 3\n",
    "d_ael_c3 = d_ap[d_ap >= d_min_c3][np.argmin(ael_d[d_ap >= d_min_c3])]\n",
    "d_ael_c1, d_ael_c3"
   ],
   "metadata": {
    "collapsed": false
   },
   "id": "8e010f16a1ff1d7e"
  },
  {
   "cell_type": "code",
   "execution_count": null,
   "outputs": [],
   "source": [
    "# ael at most restrictive positions\n",
    "ael_c1 = ael_d[np.where(d_ap == d_ael_c1)[0][0]]     # Condition 1\n",
    "ael_c3 = ael_d[np.where(d_ap == d_ael_c3)[0][0]]     # Condition 3\n",
    "ael_c1, ael_c3"
   ],
   "metadata": {
    "collapsed": false
   },
   "id": "e628fa9d764b017"
  },
  {
   "cell_type": "code",
   "execution_count": null,
   "outputs": [],
   "source": [
    "## Accessible emission \n",
    "p_avg = 0.124  # average laser power\n",
    "w_c1 = 50e-3  # aperture diameter (Table 10)\n",
    "w_c3 = 7e-3  # aperture diameter (Table 10)\n",
    "# duty = t_pulse * f  # duty cycle of laser pulses\n",
    "q_pulse = p_avg / f  # pulse energy\n",
    "\n",
    "def ae(q, w, d):\n",
    "    \"\"\"\n",
    "    Accessible emission from spherical diffuser\n",
    "    :param q: pulse energy [J]\n",
    "    :param w: aperture diameter [m]\n",
    "    :param d: aperture distance from sphere surface [m]\n",
    "    :return: accessible emission [J]\n",
    "    \"\"\"\n",
    "    # distance from sphere centre\n",
    "    d_c = d + 1e-3\n",
    "    theta = np.atan(w / 2 / d_c)\n",
    "    # pulse energy on aperture\n",
    "    return q * (1 - np.cos(theta)) / 2\n",
    "\n",
    "# pulse energy over aperture for Condition 1 and 3 \n",
    "# at most restrictive position\n",
    "q_single_c1 = ae(q_pulse, w_c1, d_ael_c1)\n",
    "q_single_c3 = ae(q_pulse, w_c3, d_ael_c3)\n",
    "# q_ap_single_c1, q_ap_single_c3\n",
    "\n",
    "if q_single_c3 <= ael_c3:\n",
    "    if q_single_c1 <= ael_c1:\n",
    "        print('Product is Class 1')\n",
    "    else:  # q_ap_single_c1 > ael, technically, we should check if it's also below class 3B\n",
    "        print('Product is Class 1M')\n",
    "else:\n",
    "    print('Product is above Class 1, repeat test with higher class specs')"
   ],
   "metadata": {
    "collapsed": false
   },
   "id": "61b1bf6370988b33"
  },
  {
   "cell_type": "code",
   "execution_count": null,
   "outputs": [],
   "source": [
    "## MPE for eye"
   ],
   "metadata": {
    "collapsed": false
   },
   "id": "76a142d42704e259"
  },
  {
   "cell_type": "code",
   "execution_count": null,
   "outputs": [],
   "source": [
    "# locations for MPE and accessible emission evaluation \n",
    "# (from sphere surface)\n",
    "r_mpe = np.arange(1e-7, 4e-3, 1e-7)\n",
    "# angular subtense of the apparent source (not limited just now)\n",
    "alphas_mpe = 2 * r_sphere / (r_mpe + r_sphere)"
   ],
   "metadata": {
    "collapsed": false
   },
   "id": "c5bf0b17615b1f1e"
  },
  {
   "cell_type": "code",
   "execution_count": null,
   "outputs": [],
   "source": [
    "alphas_mpe[:20]"
   ],
   "metadata": {
    "collapsed": false
   },
   "id": "60b097780dc12fb"
  },
  {
   "cell_type": "code",
   "execution_count": null,
   "outputs": [],
   "source": [
    "w_eye = 7e-3        # aperture diameter for the eye [m]\n",
    "w_skin = 3.5e-3    # aperture diameter for the skin [m]"
   ],
   "metadata": {
    "collapsed": false
   },
   "id": "7c992a5084ad4da6"
  },
  {
   "cell_type": "code",
   "execution_count": null,
   "outputs": [],
   "source": [
    "### Single pulse analysis\n",
    "mpe_s_eye_re = np.array([table_a2(lambda_, t_pulse, alpha)[0] for alpha in alphas_mpe])\n",
    "# If the emission duration is shorter than 0.25s, \n",
    "# we need to check skin MPE as well to consider effects\n",
    "# on the anterior parts of the eye (cornea, iris), \n",
    "# see note d) in Table A.2\n",
    "if t_pulse < 0.25:\n",
    "    mpe_s_skin_re = np.array([table_a5(lambda_, t_pulse)[0] for alpha in alphas_mpe])\n",
    "    # We have two radiant exposures, \n",
    "    # averaged over apertures of different sizes.\n",
    "    # To compare them, we project back \n",
    "    # how much energy this would be from the source.\n",
    "    def ap_re_to_source(re, w, r):\n",
    "        \"\"\"\n",
    "        :param re: radiant energy through aperture [J/m2]\n",
    "        :param w: aperture diameter [m]\n",
    "        :param r: aperture distance from sphere surface [m]\n",
    "        :return: energy from the source [J]\n",
    "        \"\"\"\n",
    "        a = (w/2)**2 * np.pi    # aperture area\n",
    "        r_c = r + 1e-3  # distance from sphere centre\n",
    "        theta = np.atan(w / 2 / r_c)\n",
    "        return re * a / ((1 - np.cos(theta)) / 2)   # pulse energy from source\n",
    "    \n",
    "    q_eye = np.array(ap_re_to_source(mpe_s_eye_re, w_eye, r_mpe))\n",
    "    q_skin = np.array(ap_re_to_source(mpe_s_skin_re, w_skin, r_mpe))\n",
    "    \n",
    "    # update eye MPEs with more restrictive skins MPEs\n",
    "    mpe_s_eye_re[q_skin<q_eye] = mpe_s_skin_re[q_skin<q_eye]"
   ],
   "metadata": {
    "collapsed": false
   },
   "id": "9d888ba791b1b32d"
  },
  {
   "cell_type": "code",
   "execution_count": null,
   "outputs": [],
   "source": [
    "### Average power analysis \n",
    "mpe_avg_eye_i = np.array([table_a2(lambda_, t_base, alpha)[1] for alpha in alphas_mpe])\n",
    "# see Note 8 of 4.3.f and Note 1 in Figure B.1\n",
    "mpe_avg_eye_re = mpe_avg_eye_i / f\n",
    "# Note, no need to check skin MPE, as the time base isn't below 0.25s"
   ],
   "metadata": {
    "collapsed": false
   },
   "id": "ef4d14fe460739fc"
  },
  {
   "cell_type": "code",
   "execution_count": null,
   "outputs": [],
   "source": [
    "### Reduced pulse analysis (pulse train analysis) \n",
    "# use correction factor c5, the effective pulse duration,\n",
    "# and the number of real pulses in the eff. pulse duration\n",
    "\n",
    "# single pulse MPE for the effective pulse length [J/m2]\n",
    "mpe_eff_eye = np.array([table_a2(lambda_, t_eff, alpha)[0] for alpha in alphas_mpe])\n",
    "# project back to an individual pulse and apply correction\n",
    "mpe_sptrain_eye_re = mpe_eff_eye / n * c5\n",
    "# MPE_sptrain is projected to a single pulse.\n",
    "# If the pulse length is shorter than 0.25 s,\n",
    "# we need to check single pulse skin MPE as well \n",
    "# to consider effects on the anterior parts \n",
    "# of the eye (cornea, iris), see note d) in Table A.2\n",
    "if t_pulse < 0.25:\n",
    "    q_eye = np.array(ap_re_to_source(mpe_sptrain_eye_re, w_eye, r_mpe))\n",
    "    # update eye MPEs with more restrictive skins MPEs\n",
    "    mpe_sptrain_eye_re[q_skin<q_eye] = mpe_s_skin_re[q_skin<q_eye]"
   ],
   "metadata": {
    "collapsed": false
   },
   "id": "ef7d00126d442ee0"
  },
  {
   "cell_type": "code",
   "execution_count": null,
   "outputs": [],
   "source": [
    "mpes_eye = np.array([mpe_s_eye_re, mpe_avg_eye_re, mpe_sptrain_eye_re])\n",
    "# minimum mpe per aperture position\n",
    "mpe_eye_d = np.min(mpes_eye, axis=0)"
   ],
   "metadata": {
    "collapsed": false
   },
   "id": "8f82958f9c7ab39b"
  },
  {
   "cell_type": "code",
   "execution_count": null,
   "outputs": [],
   "source": [
    "## NOHD"
   ],
   "metadata": {
    "collapsed": false
   },
   "id": "670af53b8f4459eb"
  },
  {
   "cell_type": "code",
   "execution_count": null,
   "outputs": [],
   "source": [
    "# at each aperture position, compare the emitted radiant exposure with the mpe\n",
    "# array of accessible emission values\n",
    "# (ae is vectorised, so can call it with array)\n",
    "q_eye = ae(q_pulse, w_eye, r_mpe)\n",
    "a_eye = (w_eye/2)**2 * np.pi\n",
    "# array of radiant exposure values\n",
    "re_eye = q_eye / a_eye\n",
    "\n",
    "nohd = r_mpe[np.where(re_eye <= mpe_eye_d)[0][0]]\n",
    "nohd"
   ],
   "metadata": {
    "collapsed": false
   },
   "id": "d2fd0335e1c21d43"
  },
  {
   "cell_type": "code",
   "execution_count": null,
   "outputs": [],
   "source": [
    "## MPE for skin"
   ],
   "metadata": {
    "collapsed": false
   },
   "id": "9abea7bd22b2292f"
  },
  {
   "cell_type": "code",
   "execution_count": null,
   "outputs": [],
   "source": [
    "### Single pulse analysis\n",
    "mpe_s_skin_re = np.array([table_a5(lambda_, t_pulse)[0] for alpha in alphas_mpe])"
   ],
   "metadata": {
    "collapsed": false
   },
   "id": "df7a6361afaff078"
  },
  {
   "cell_type": "code",
   "execution_count": null,
   "outputs": [],
   "source": [
    "### Average power analysis \n",
    "# t_skin = t_base\n",
    "t_skin = 30000\n",
    "mpe_avg_skin_i = np.array([table_a5(lambda_, t_skin)[0] for alpha in alphas_mpe])\n",
    "# see Note 8 of 4.3.f and Note 1 in Figure B.1\n",
    "mpe_avg_skin_re = mpe_avg_skin_i / f\n",
    "# Note, no need to check skin MPE, as the time base isn't below 0.25s"
   ],
   "metadata": {
    "collapsed": false
   },
   "id": "e7cb87406f497007"
  },
  {
   "cell_type": "code",
   "execution_count": null,
   "outputs": [],
   "source": [
    "# Note, reduced pulse analysis is not required for skin exposure\n",
    "mpes_skin = np.array([mpe_s_skin_re, mpe_avg_skin_re])\n",
    "# minimum mpe per aperture position\n",
    "mpe_skin_d = np.min(mpes_skin, axis=0)"
   ],
   "metadata": {
    "collapsed": false
   },
   "id": "733f964723c5373d"
  },
  {
   "cell_type": "code",
   "execution_count": null,
   "outputs": [],
   "source": [
    "## skin hazard distance"
   ],
   "metadata": {
    "collapsed": false
   },
   "id": "f90ad949bc3c88c7"
  },
  {
   "cell_type": "code",
   "execution_count": null,
   "outputs": [],
   "source": [
    "# at each aperture position, compare the emitted radiant exposure with the mpe\n",
    "# array of accessible emission values\n",
    "# (ae is vectorised, so can call it with array)\n",
    "q_skin = ae(q_pulse, w_skin, r_mpe)\n",
    "a_skin = (w_skin/2)**2 * np.pi\n",
    "# array of radiant exposure values\n",
    "re_skin = q_skin / a_skin\n",
    "\n",
    "shd = r_mpe[np.where(re_skin <= mpe_skin_d)[0][0]]\n",
    "shd"
   ],
   "metadata": {
    "collapsed": false
   },
   "id": "409e0de3355564a1"
  },
  {
   "cell_type": "code",
   "execution_count": null,
   "outputs": [],
   "source": [],
   "metadata": {
    "collapsed": false
   },
   "id": "110eca33879c52e9"
  }
 ],
 "metadata": {
  "kernelspec": {
   "display_name": "Python 3",
   "language": "python",
   "name": "python3"
  },
  "language_info": {
   "codemirror_mode": {
    "name": "ipython",
    "version": 2
   },
   "file_extension": ".py",
   "mimetype": "text/x-python",
   "name": "python",
   "nbconvert_exporter": "python",
   "pygments_lexer": "ipython2",
   "version": "2.7.6"
  }
 },
 "nbformat": 4,
 "nbformat_minor": 5
}
